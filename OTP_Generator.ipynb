{
  "nbformat": 4,
  "nbformat_minor": 0,
  "metadata": {
    "colab": {
      "name": "OTP_Generator.ipynb",
      "provenance": [],
      "authorship_tag": "ABX9TyMf0AnqBZ/yeG3fZ2Xy484G",
      "include_colab_link": true
    },
    "kernelspec": {
      "name": "python3",
      "display_name": "Python 3"
    },
    "language_info": {
      "name": "python"
    }
  },
  "cells": [
    {
      "cell_type": "markdown",
      "metadata": {
        "id": "view-in-github",
        "colab_type": "text"
      },
      "source": [
        "<a href=\"https://colab.research.google.com/github/Sanket-Rajgiri/OTP_Generator/blob/main/OTP_Generator.ipynb\" target=\"_parent\"><img src=\"https://colab.research.google.com/assets/colab-badge.svg\" alt=\"Open In Colab\"/></a>"
      ]
    },
    {
      "cell_type": "markdown",
      "metadata": {
        "id": "BEHvaQ_zm5IE"
      },
      "source": [
        "Simple OTP Generator using Random "
      ]
    },
    {
      "cell_type": "code",
      "metadata": {
        "id": "xbazNBLBmyO0"
      },
      "source": [
        "import random as r\n",
        "import string"
      ],
      "execution_count": 1,
      "outputs": []
    },
    {
      "cell_type": "code",
      "metadata": {
        "colab": {
          "base_uri": "https://localhost:8080/"
        },
        "id": "3-opOdtqnJe4",
        "outputId": "6aa344e5-ec2c-4ebd-8211-b50048444755"
      },
      "source": [
        "characters= string.ascii_letters+string.digits\n",
        "\n",
        "length=6\n",
        "otp=''\n",
        "for i in range(0,length):\n",
        " otp= otp+r.choice(characters)\n",
        "\n",
        "print(\"OTP: \",otp)"
      ],
      "execution_count": 5,
      "outputs": [
        {
          "output_type": "stream",
          "text": [
            "OTP:  TubOzS\n"
          ],
          "name": "stdout"
        }
      ]
    }
  ]
}